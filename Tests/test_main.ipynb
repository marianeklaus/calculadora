{
 "cells": [
  {
   "cell_type": "markdown",
   "id": "b181194d-8919-4abf-bfc7-1573b256e489",
   "metadata": {},
   "source": [
    "# Módulo Principal"
   ]
  },
  {
   "cell_type": "code",
   "execution_count": 3,
   "id": "7f1aa564-9ed2-47b4-9924-b15b298acfe6",
   "metadata": {
    "tags": []
   },
   "outputs": [],
   "source": [
    "# Importação dos módulos\n",
    "import proc\n",
    "import es\n",
    "\n"
   ]
  },
  {
   "cell_type": "code",
   "execution_count": 4,
   "id": "3fe2798a-da29-410e-b5a8-2511a06ac74c",
   "metadata": {
    "tags": []
   },
   "outputs": [
    {
     "name": "stdin",
     "output_type": "stream",
     "text": [
      "Digite o número 1 que deseja operar 1\n",
      "Digite o número 2 que deseja operar 1\n",
      "Digite a operação que deseja realizar.\n",
      "    Pressione: \n",
      "    + para adição; \n",
      "    - para subtração;\n",
      "    * para multiplicação; \n",
      "    / para divisão +\n"
     ]
    }
   ],
   "source": [
    "dados = es.leitora()"
   ]
  },
  {
   "cell_type": "code",
   "execution_count": 5,
   "id": "5c474e13-4067-4f97-98d1-020862a87335",
   "metadata": {
    "tags": []
   },
   "outputs": [
    {
     "data": {
      "text/plain": [
       "[[1.0, 1.0], '+']"
      ]
     },
     "execution_count": 5,
     "metadata": {},
     "output_type": "execute_result"
    }
   ],
   "source": [
    "dados"
   ]
  },
  {
   "cell_type": "code",
   "execution_count": 29,
   "id": "df5290a1-1267-4e8a-9a2e-f1a690a3eb08",
   "metadata": {
    "tags": []
   },
   "outputs": [],
   "source": [
    "if dados[1] == \"+\":\n",
    "    resultado = proc.somadora(dados[0][0],dados[0][1])\n",
    "elif dados[1] == \"-\":\n",
    "    resultado = proc.diminuidora(dados[0][0],dados[0][1])\n",
    "elif dados[1] == \"*\":\n",
    "    resultado = proc.mult(dados[0][0],dados[0][1])\n",
    "else:\n",
    "    resultado = proc.div(dados[0][0],dados[0][1])\n"
   ]
  },
  {
   "cell_type": "code",
   "execution_count": 33,
   "id": "736843a4-c8a8-4466-86e4-1076813a815f",
   "metadata": {
    "tags": []
   },
   "outputs": [],
   "source": [
    "def escolhedora(dados: list) -> float:\n",
    "    \"\"\"Esta função escolhe a operação adequada de acordo com o usuário.\"\"\"\n",
    "    if dados[1] == \"+\":\n",
    "        resultado = proc.somadora(dados[0][0],dados[0][1])\n",
    "    elif dados[1] == \"-\":\n",
    "        resultado = proc.diminuidora(dados[0][0],dados[0][1])\n",
    "    elif dados[1] == \"*\":\n",
    "        resultado = proc.mult(dados[0][0],dados[0][1])\n",
    "    else:\n",
    "        resultado = proc.div(dados[0][0],dados[0][1])\n",
    "    return resultado"
   ]
  }
 ],
 "metadata": {
  "kernelspec": {
   "display_name": "Python 3 (ipykernel)",
   "language": "python",
   "name": "python3"
  },
  "language_info": {
   "codemirror_mode": {
    "name": "ipython",
    "version": 3
   },
   "file_extension": ".py",
   "mimetype": "text/x-python",
   "name": "python",
   "nbconvert_exporter": "python",
   "pygments_lexer": "ipython3",
   "version": "3.11.5"
  }
 },
 "nbformat": 4,
 "nbformat_minor": 5
}
