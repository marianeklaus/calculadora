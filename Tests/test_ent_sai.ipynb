{
 "cells": [
  {
   "cell_type": "markdown",
   "id": "6e278608-d2bf-4f28-bbe9-3a1c7d884c19",
   "metadata": {},
   "source": [
    "# Módulo de entrada e saída\n",
    "Este módulo oferece funções de entrada e saída de dados."
   ]
  },
  {
   "cell_type": "code",
   "execution_count": 8,
   "id": "efcb9f28-3cff-45f9-9db6-d5e3a2c551b8",
   "metadata": {
    "tags": []
   },
   "outputs": [
    {
     "name": "stdin",
     "output_type": "stream",
     "text": [
      "Digite o primeiro número que deseja operar 6\n"
     ]
    }
   ],
   "source": [
    "# Entrada de dados\n",
    "\n",
    "numero1 = input(\"Digite o primeiro número que deseja operar\")"
   ]
  },
  {
   "cell_type": "code",
   "execution_count": 9,
   "id": "9985a976-7c83-4b54-8dd1-237f3accb6e2",
   "metadata": {
    "tags": []
   },
   "outputs": [
    {
     "ename": "TypeError",
     "evalue": "can only concatenate str (not \"int\") to str",
     "output_type": "error",
     "traceback": [
      "\u001b[1;31m---------------------------------------------------------------------------\u001b[0m",
      "\u001b[1;31mTypeError\u001b[0m                                 Traceback (most recent call last)",
      "Cell \u001b[1;32mIn[9], line 1\u001b[0m\n\u001b[1;32m----> 1\u001b[0m numero1 \u001b[38;5;241m+\u001b[39m \u001b[38;5;241m3\u001b[39m\n",
      "\u001b[1;31mTypeError\u001b[0m: can only concatenate str (not \"int\") to str"
     ]
    }
   ],
   "source": [
    "numero1 + 3\n"
   ]
  },
  {
   "cell_type": "code",
   "execution_count": 7,
   "id": "e2f0e154-c058-4641-983a-5a8912bccbc6",
   "metadata": {
    "tags": []
   },
   "outputs": [
    {
     "name": "stdin",
     "output_type": "stream",
     "text": [
      "Digite o primeiro número que deseja operar oi\n"
     ]
    },
    {
     "ename": "ValueError",
     "evalue": "could not convert string to float: 'oi'",
     "output_type": "error",
     "traceback": [
      "\u001b[1;31m---------------------------------------------------------------------------\u001b[0m",
      "\u001b[1;31mValueError\u001b[0m                                Traceback (most recent call last)",
      "Cell \u001b[1;32mIn[7], line 2\u001b[0m\n\u001b[0;32m      1\u001b[0m \u001b[38;5;66;03m# Transformei a entrada de dados em um número tipo float\u001b[39;00m\n\u001b[1;32m----> 2\u001b[0m numero1 \u001b[38;5;241m=\u001b[39m \u001b[38;5;28mfloat\u001b[39m(\u001b[38;5;28minput\u001b[39m(\u001b[38;5;124m\"\u001b[39m\u001b[38;5;124mDigite o primeiro número que deseja operar\u001b[39m\u001b[38;5;124m\"\u001b[39m))\n",
      "\u001b[1;31mValueError\u001b[0m: could not convert string to float: 'oi'"
     ]
    }
   ],
   "source": [
    "# Transformei a entrada de dados em um número tipo float\n",
    "numero1 = float(input(\"Digite o primeiro número que deseja operar\"))"
   ]
  },
  {
   "cell_type": "code",
   "execution_count": 4,
   "id": "8e64ba8d-0b9f-4f53-a914-d0a3ce27cb92",
   "metadata": {
    "tags": []
   },
   "outputs": [
    {
     "data": {
      "text/plain": [
       "4.0"
      ]
     },
     "execution_count": 4,
     "metadata": {},
     "output_type": "execute_result"
    }
   ],
   "source": [
    "numero1"
   ]
  },
  {
   "cell_type": "code",
   "execution_count": 6,
   "id": "29ccbba7-3816-4fd6-bf73-324aefa2e2ad",
   "metadata": {
    "tags": []
   },
   "outputs": [
    {
     "data": {
      "text/plain": [
       "12.0"
      ]
     },
     "execution_count": 6,
     "metadata": {},
     "output_type": "execute_result"
    }
   ],
   "source": [
    "numero1 + 8"
   ]
  },
  {
   "cell_type": "code",
   "execution_count": 57,
   "id": "0b4c529e-589c-498b-b049-1b21cdf800ca",
   "metadata": {
    "tags": []
   },
   "outputs": [
    {
     "name": "stdin",
     "output_type": "stream",
     "text": [
      "Digite o número 1 que deseja operar 1\n",
      "Digite o número 2 que deseja operar 1\n"
     ]
    },
    {
     "data": {
      "text/plain": [
       "[1.0, 1.0]"
      ]
     },
     "execution_count": 57,
     "metadata": {},
     "output_type": "execute_result"
    }
   ],
   "source": [
    "# função que lê dois números\n",
    "def leitora_num() -> list:\n",
    "    \"\"\"Esta função cria uma lista e com dois números digitados e a grava\"\"\"\n",
    "    i = 0\n",
    "    numeros = []\n",
    "    while i < 2:\n",
    "        numeros.append(float(input(f\"Digite o número {i+1} que deseja operar\")))\n",
    "        i+= 1\n",
    "    return numeros\n",
    "leitora_num()\n",
    "        "
   ]
  },
  {
   "cell_type": "code",
   "execution_count": 31,
   "id": "df4aba27-5c41-48e5-980b-babad2f136e4",
   "metadata": {
    "tags": []
   },
   "outputs": [
    {
     "name": "stdin",
     "output_type": "stream",
     "text": [
      "Digite a operação que deseja realizar.\n",
      "Pressione: \n",
      "+ para adição; \n",
      "- para subtração;\n",
      "* para multiplicação; \n",
      "/ para divisão +\n"
     ]
    }
   ],
   "source": [
    "#função que lê a operação que deve ser executada\n",
    "\n",
    "operacao = input(\"\"\"Digite a operação que deseja realizar.\n",
    "Pressione: \n",
    "+ para adição; \n",
    "- para subtração;\n",
    "* para multiplicação; \n",
    "/ para divisão\"\"\")"
   ]
  },
  {
   "cell_type": "code",
   "execution_count": 48,
   "id": "b37490ef-0a41-433c-9dba-5ef2da9980ea",
   "metadata": {
    "tags": []
   },
   "outputs": [],
   "source": [
    "def leitora_operacao() -> str:\n",
    "    \"\"\"Esta função grava a operação digitada\"\"\"\n",
    "    operacao = input(\"\"\"Digite a operação que deseja realizar.\n",
    "    Pressione: \n",
    "    + para adição; \n",
    "    - para subtração;\n",
    "    * para multiplicação; \n",
    "    / para divisão\"\"\")\n",
    "    return operacao\n",
    "leitora_operacao()"
   ]
  },
  {
   "cell_type": "code",
   "execution_count": 50,
   "id": "9845eb87-c5ef-43b2-8a6f-473fe21d4749",
   "metadata": {
    "tags": []
   },
   "outputs": [
    {
     "name": "stdin",
     "output_type": "stream",
     "text": [
      "Digite o número 1 que deseja operar 1\n",
      "Digite o número 2 que deseja operar 1\n",
      "Digite a operação que deseja realizar.\n",
      "    Pressione: \n",
      "    + para adição; \n",
      "    - para subtração;\n",
      "    * para multiplicação; \n",
      "    / para divisão +\n"
     ]
    },
    {
     "data": {
      "text/plain": [
       "[[1.0, 1.0], '+']"
      ]
     },
     "execution_count": 50,
     "metadata": {},
     "output_type": "execute_result"
    }
   ],
   "source": [
    "def leitora() -> list:\n",
    "    lista_numeros = leitora_num()\n",
    "    operacao = leitora_operacao()\n",
    "    return [lista_numeros, operacao]\n",
    "leitora()"
   ]
  },
  {
   "cell_type": "code",
   "execution_count": 51,
   "id": "c1a10db6-1184-474c-b10f-3ae550cc7eb8",
   "metadata": {
    "tags": []
   },
   "outputs": [],
   "source": [
    "# Entrada de dados"
   ]
  },
  {
   "cell_type": "code",
   "execution_count": 54,
   "id": "ae7d8392-783b-4fe9-9baf-3a76f7be79a6",
   "metadata": {
    "tags": []
   },
   "outputs": [
    {
     "name": "stdout",
     "output_type": "stream",
     "text": [
      "O resultado da operação é igual a 9\n"
     ]
    }
   ],
   "source": [
    "def escritora(resultado):\n",
    "    \"\"\"Esta função coloca o resultado na tela\"\"\"\n",
    "    print(f\"O resultado da operação é igual a {resultado}\")\n",
    "    \n",
    "resultado = 9\n",
    "escritora(resultado)"
   ]
  }
 ],
 "metadata": {
  "kernelspec": {
   "display_name": "Python 3 (ipykernel)",
   "language": "python",
   "name": "python3"
  },
  "language_info": {
   "codemirror_mode": {
    "name": "ipython",
    "version": 3
   },
   "file_extension": ".py",
   "mimetype": "text/x-python",
   "name": "python",
   "nbconvert_exporter": "python",
   "pygments_lexer": "ipython3",
   "version": "3.11.5"
  }
 },
 "nbformat": 4,
 "nbformat_minor": 5
}
