{
 "cells": [
  {
   "cell_type": "markdown",
   "id": "32dfd543-5d68-442e-b164-8537e75e8eaa",
   "metadata": {
    "tags": []
   },
   "source": [
    "# Módulo de Processamento"
   ]
  },
  {
   "cell_type": "markdown",
   "id": "2d671f78-06c2-4456-b673-ded7b37c6490",
   "metadata": {},
   "source": [
    "## Requisito 1 - Desenvolvimento da função de soma "
   ]
  },
  {
   "cell_type": "code",
   "execution_count": 2,
   "id": "c2ab3927-7dd1-4949-a6f2-ea9a022ad525",
   "metadata": {
    "tags": []
   },
   "outputs": [
    {
     "data": {
      "text/plain": [
       "10"
      ]
     },
     "execution_count": 2,
     "metadata": {},
     "output_type": "execute_result"
    }
   ],
   "source": [
    "x = 4\n",
    "y = 6\n",
    "x + y"
   ]
  },
  {
   "cell_type": "code",
   "execution_count": 3,
   "id": "bd603409-e4cb-44f4-b504-24678c9fa1f7",
   "metadata": {
    "tags": []
   },
   "outputs": [
    {
     "name": "stdout",
     "output_type": "stream",
     "text": [
      "10\n"
     ]
    }
   ],
   "source": [
    "z = x + y \n",
    "print(z)"
   ]
  },
  {
   "cell_type": "code",
   "execution_count": 6,
   "id": "07bfc6cd-a458-44ec-b9c8-cab6bdc2a238",
   "metadata": {
    "tags": []
   },
   "outputs": [
    {
     "data": {
      "text/plain": [
       "13"
      ]
     },
     "execution_count": 6,
     "metadata": {},
     "output_type": "execute_result"
    }
   ],
   "source": [
    "def somadora(x, y):\n",
    "    return x + y\n",
    "\n",
    "somadora(5,8)"
   ]
  },
  {
   "cell_type": "code",
   "execution_count": 8,
   "id": "fb7bef07-ba34-49c7-a59a-61bd67f47fb6",
   "metadata": {
    "tags": []
   },
   "outputs": [
    {
     "data": {
      "text/plain": [
       "11"
      ]
     },
     "execution_count": 8,
     "metadata": {},
     "output_type": "execute_result"
    }
   ],
   "source": [
    "def somadora( numero1: float, numero2: float) -> float:\n",
    "    \"\"\"Esta função pega dois números reais e retorna a soma deles\"\"\"\n",
    "    return numero1 + numero2\n",
    "somadora(7,4)"
   ]
  },
  {
   "cell_type": "markdown",
   "id": "017888d4-3f31-4b62-a62c-2beef1a85e69",
   "metadata": {},
   "source": [
    "## Requisito 2 - Desenvolvimento da função de diminuição"
   ]
  },
  {
   "cell_type": "code",
   "execution_count": 10,
   "id": "bd536b6f-5abf-4856-a9f5-50f8a7351738",
   "metadata": {
    "tags": []
   },
   "outputs": [
    {
     "data": {
      "text/plain": [
       "3"
      ]
     },
     "execution_count": 10,
     "metadata": {},
     "output_type": "execute_result"
    }
   ],
   "source": [
    "def diminuidora( numero1: float, numero2: float) -> float:\n",
    "    \"\"\"Esta função pega dois números reais e retorna a diminuição deles\"\"\"\n",
    "    return numero1 - numero2\n",
    "diminuidora(7,4)"
   ]
  },
  {
   "cell_type": "markdown",
   "id": "e36a09ed-f7aa-47e0-a72a-0b72ead2f5c6",
   "metadata": {
    "tags": []
   },
   "source": [
    "## Requisito 3 - Desenvolvimento da função de multiplicação"
   ]
  },
  {
   "cell_type": "code",
   "execution_count": 12,
   "id": "49423f5d-d0b5-4e28-ab26-2b8fdcd56750",
   "metadata": {
    "tags": []
   },
   "outputs": [
    {
     "data": {
      "text/plain": [
       "28"
      ]
     },
     "execution_count": 12,
     "metadata": {},
     "output_type": "execute_result"
    }
   ],
   "source": [
    "def mult( numero1: float, numero2: float) -> float:\n",
    "    \"\"\"Esta função pega dois números reais e retorna a multiplicação deles\"\"\"\n",
    "    return numero1 * numero2\n",
    "mult(7,4)"
   ]
  },
  {
   "cell_type": "markdown",
   "id": "d4a98e63-5525-45cb-ab7f-e31d1f373eb5",
   "metadata": {
    "tags": []
   },
   "source": [
    "## Requisito 4 - Desenvolvimento da função de divisão"
   ]
  },
  {
   "cell_type": "code",
   "execution_count": 31,
   "id": "19720cd3-1e36-474e-ad19-646bce68134f",
   "metadata": {
    "tags": []
   },
   "outputs": [
    {
     "data": {
      "text/plain": [
       "'Não existe divisão por zero.'"
      ]
     },
     "execution_count": 31,
     "metadata": {},
     "output_type": "execute_result"
    }
   ],
   "source": [
    "def div( numero1: float, numero2: float) -> float:\n",
    "    \"\"\"Esta função pega dois números reais e retorna a divisão deles\"\"\"\n",
    "    if numero2 == 0:\n",
    "        resultado = \"Não existe divisão por zero.\"\n",
    "    else:\n",
    "        resultado = numero1/numero2\n",
    "    return resultado\n",
    "div(0,0)"
   ]
  },
  {
   "cell_type": "code",
   "execution_count": null,
   "id": "e4d2bfa0-49b2-4f3e-ab17-e95123dc00dd",
   "metadata": {},
   "outputs": [],
   "source": []
  }
 ],
 "metadata": {
  "kernelspec": {
   "display_name": "Python 3 (ipykernel)",
   "language": "python",
   "name": "python3"
  },
  "language_info": {
   "codemirror_mode": {
    "name": "ipython",
    "version": 3
   },
   "file_extension": ".py",
   "mimetype": "text/x-python",
   "name": "python",
   "nbconvert_exporter": "python",
   "pygments_lexer": "ipython3",
   "version": "3.11.5"
  }
 },
 "nbformat": 4,
 "nbformat_minor": 5
}
